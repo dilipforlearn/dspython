a=5;
b=6;
c=a+b;
print("The Value of the C:", c)